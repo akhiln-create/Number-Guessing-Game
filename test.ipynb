{
 "cells": [
  {
   "cell_type": "code",
   "execution_count": 1,
   "id": "55c8a99a",
   "metadata": {},
   "outputs": [
    {
     "data": {
      "text/plain": [
       "4"
      ]
     },
     "execution_count": 1,
     "metadata": {},
     "output_type": "execute_result"
    }
   ],
   "source": [
    "2+2"
   ]
  },
  {
   "cell_type": "code",
   "execution_count": null,
   "id": "86bc015f",
   "metadata": {},
   "outputs": [],
   "source": [
    "# Example 1: For Loop vs List Comprehension\n",
    "# Let's create a list of squares for numbers 1 to 5\n",
    "\n",
    "# Method 1: Traditional for loop\n",
    "squares_for_loop = []\n",
    "for i in range(1, 6):\n",
    "    squares_for_loop.append(i ** 2)\n",
    "\n",
    "print(\"Using for loop:\", squares_for_loop)\n",
    "\n",
    "# Method 2: List comprehension (equivalent)\n",
    "squares_list_comp = [i ** 2 for i in range(1, 6)]\n",
    "\n",
    "print(\"Using list comprehension:\", squares_list_comp)\n",
    "\n",
    "# Verify they produce the same result\n",
    "print(\"Are they equal?\", squares_for_loop == squares_list_comp)\n"
   ]
  },
  {
   "cell_type": "markdown",
   "id": "bcf345b8",
   "metadata": {},
   "source": [
    "### How it works - Detailed Explanation\n",
    "\n",
    "**For Loop Explanation:**\n",
    "1. We start with an empty list: `squares_for_loop = []`\n",
    "2. We iterate through `range(1, 6)` which gives us numbers from 1 to 5: `1, 2, 3, 4, 5`\n",
    "3. For each number `i`, we calculate `i ** 2` (i squared).\n",
    "4. We append each result to our list using `.append()`.\n",
    "5. Final result: `[1, 4, 9, 16, 25]`\n",
    "\n",
    "**List Comprehension Explanation:**\n",
    "1. Syntax: `[expression for item in iterable]`\n",
    "2. `expression`: `i ** 2` (what we want to compute for each item)\n",
    "3. `for item in iterable`: `for i in range(1, 6)` (the loop that provides each item)\n",
    "4. This creates the same list in a single, more concise line!\n",
    "5. It's generally more readable and often more efficient for simple list creations.\n",
    "\n",
    "**When to Use Each:**\n",
    "\n",
    "**Use a `for` loop when:**\n",
    "- You need to perform multiple operations within the loop.\n",
    "- You need to break out of the loop or skip iterations (`break`, `continue`).\n",
    "- The logic is complex and involves conditional statements or nested loops that are harder to express concisely in a list comprehension.\n",
    "- You are not primarily creating a new list, but rather performing actions (e.g., printing, updating variables).\n",
    "\n",
    "**Use a list comprehension when:**\n",
    "- You're creating a new list based on an existing iterable.\n",
    "- The transformation or filtering is straightforward and can be expressed in a single line.\n",
    "- You want more readable, Pythonic, and often more performant code for list creation.\n"
   ]
  },
  {
   "cell_type": "code",
   "execution_count": null,
   "id": "a5833d3c",
   "metadata": {},
   "outputs": [],
   "source": [
    "# Additional Examples\n",
    "\n",
    "# Example 2: Filtering even numbers\n",
    "numbers = [1, 2, 3, 4, 5, 6, 7, 8, 9, 10]\n",
    "\n",
    "# For loop approach\n",
    "even_numbers_for = []\n",
    "for num in numbers:\n",
    "    if num % 2 == 0:\n",
    "        even_numbers_for.append(num)\n",
    "\n",
    "# List comprehension approach\n",
    "even_numbers_comp = [num for num in numbers if num % 2 == 0]\n",
    "\n",
    "print(\"Even numbers (for loop):\", even_numbers_for)\n",
    "print(\"Even numbers (list comp):\", even_numbers_comp)\n",
    "\n",
    "# Example 3: String manipulation\n",
    "words = [\"hello\", \"world\", \"python\", \"programming\"]\n",
    "\n",
    "# For loop approach\n",
    "upper_words_for = []\n",
    "for word in words:\n",
    "    upper_words_for.append(word.upper())\n",
    "\n",
    "# List comprehension approach\n",
    "upper_words_comp = [word.upper() for word in words]\n",
    "\n",
    "print(\"Uppercase words (for loop):\", upper_words_for)\n",
    "print(\"Uppercase words (list comp):\", upper_words_comp)\n"
   ]
  }
 ],
 "metadata": {
  "kernelspec": {
   "display_name": "Python 3",
   "language": "python",
   "name": "python3"
  },
  "language_info": {
   "codemirror_mode": {
    "name": "ipython",
    "version": 3
   },
   "file_extension": ".py",
   "mimetype": "text/x-python",
   "name": "python",
   "nbconvert_exporter": "python",
   "pygments_lexer": "ipython3",
   "version": "3.13.6"
  }
 },
 "nbformat": 4,
 "nbformat_minor": 5
}
